{
  "nbformat": 4,
  "nbformat_minor": 0,
  "metadata": {
    "kernelspec": {
      "display_name": "Python 3",
      "language": "python",
      "name": "python3"
    },
    "language_info": {
      "codemirror_mode": {
        "name": "ipython",
        "version": 3
      },
      "file_extension": ".py",
      "mimetype": "text/x-python",
      "name": "python",
      "nbconvert_exporter": "python",
      "pygments_lexer": "ipython3",
      "version": "3.7.7"
    },
    "colab": {
      "name": "CeneoSentyment_bazowy.ipynb",
      "provenance": [],
      "collapsed_sections": []
    }
  },
  "cells": [
    {
      "cell_type": "markdown",
      "metadata": {
        "id": "M_Q-QZ_qQET4"
      },
      "source": [
        "#Modele języka naturalnego w rozpoznawaniu sentymentu opinii\n",
        "##Na podstawie danych z serwisu ceneo.pl\n",
        "\n"
      ]
    },
    {
      "cell_type": "markdown",
      "metadata": {
        "id": "hYV9g1dqmPQi"
      },
      "source": [
        "Analiza tekstu jest szybko rozwijającą się dziedziną uczenia maszynowego. Budzi nie tylko szczególne zainteresowanie biznesu, dając działom sprzedaży potężne narzędzie marketingowe, ale także badaczy ze względu na niestandardowe podejścia, które należy wdrożyć.\n",
        "Z oczywistych względów język polski nie jest dominującym w rozważaniach i przykładach na temat analizy tekstu, jednak narzędzia stworzone dla języka angielskiego są względnie uniwersalne, i mogą być stosowane do analizowania języka polskiego jedynie po niewielkich zmianach. Szczególną wagę pełni tu jeden z kroków analizy - tokenizacja - podczas której słowa zamieniane są na poszczególne indeksy tablicy, dzięki czemu algorytmy zaczynają być całkowicie obojętne na język.\n",
        "W naszej pracy przeprowadzimy analizę sentymentu komentarzy na największej w Polsce porównywarce produktów - ceneo.pl. "
      ]
    },
    {
      "cell_type": "markdown",
      "metadata": {
        "id": "5xX_Ah1ErsI0"
      },
      "source": [
        "Analiza sentymentu jest techniką przetwarzania języka naturalnego w celu określenia czy zebrane dane mają wydźwięk pozytywny, negatywny, bądź neutralny. Technika ta wykorzystuje dane tekstowe, aby pomóc przedsiębiorcom w monitorowaniu marki i oferowanych produktów poprzez zbieranie i analizowanie opinii klientów oraz określenie ich potrzeb.\n",
        "\n",
        "W ostatnich latach klienci zaczęli bardziej otwarcie wyrażać poglądy i uczucia względem oferowanych usług i towarów. Dzięki temu analiza sentymentu stała się istotnym narzędziem, które automatycznie pobiera i bada opinie z ankiet, dyskusji na serwisach społecznościowych, czy sklepach internetowych  lub porównywarkach cenowych. Z opinii zwrotnych można dowiedzieć się, czy marka jest popularna, klienci zadowoleni lub sfrustrowani, a także czy oferowane usługi są skrojone na potrzeby rynku.\n",
        "\n",
        "##Rodzaje Analizy Sentymentu\n",
        "\n",
        "Analiza sentymentu skupia się na polaryzacji (negatywny, pozytywny, neutralny), ale może być stosowana także do analizy emocji (szczęśliwy, smutny, wściekły, zadowolony itp.), stopnia nagłości (pilny, nienaglący), czy intencji (zainteresowany, niezainteresowany).\n",
        "W zależności od potrzeb interpretacyjnych można wykorzystać dane z opinii do wielu celów.\n",
        "\n",
        "###System punktacyjny\n",
        "\n",
        "Aby rozszerzyć polaryzację sentymentu można określić system uporządkowanych kategorii (bardzo pozytywny -> pozytywny -> neutralny -> negatywny -> bardzo negatywny) i dla każdej z nich przydzielić punktację, bądź liczbę gwiazdek, np. bardzo pozytywny = 5/5 gwiazdek, a bardzo negatywny = 1/5 gwiazdek.\n",
        "\n",
        "###Wykrywanie emocji\n",
        "\n",
        "Ten typ sentymentu służy do określenia emocji zawartych w tekście. Pozwala on na wykrycie, czy klient był zadowolony, sfrustrowany, smutny, wściekły, bądź obojętny. Systemy te opierają się na słownikach (listach słów, którym przypisane są poszczególne emocje) i zaawansowanych algorytmach uczenia maszynowego.\n",
        "\n",
        "Podstawowym problem w budowaniu słowników jest kompleksowa natura ludzka. Ludzie wyrażają emocje na niezliczoną liczbę sposobów. Niektóre słowa wydają się być ściśle powiązane z jednym rodzajem emocji, ale w zależności od kontekstu potrafią wyrażać inne uczucia. \n",
        "\n",
        "###Analiza aspektów\n",
        "\n",
        "Często klienci mają mieszane uczucia na temat danego produktu, mogą być zadowoleni z jednego elementu, lecz mieć negatywne zdanie na temat innej części. W takiej sytuacji przydaje się analiza sentymentu oparta na aspektach, która pozwala określić, które dokładnie elementu produktu są oceniane. Przykładowo w recenzji tekstowej: „Telefon rozładowuje się po zaledwie 3 godzinach użytkowania” klasyfikator będzie w stanie wykryć, że negatywna opinia dotyczy baterii urządzenia.\n"
      ]
    },
    {
      "cell_type": "markdown",
      "metadata": {
        "id": "WsX-7OFwzuzU"
      },
      "source": [
        "##Istotność Analizy Sentymentu\n",
        "\n",
        "Analiza sentymentu jest niezwykle ważna, ponieważ pozwala biznesom na znacznie szybsze zrozumienie ogólnego obrazu opinii jego klientów. Wykorzystując automatyczne sortowanie przez sentyment ukryty w recenzjach, dialogach na mediach społecznościowych, czy innych publicznych miejscach w sieci internetowej można dynamicznie podejmować decyzje i wydatnie zwiększyć ich poprawność.\n",
        "\n",
        "Znakomita większość danych na świecie jest nieuporządkowana, więc aby wyciągnąć z nich maksimum informacji niezbędna jest organizacja i czyszczenie pozyskanych zbiorów. Codziennie tworzone są masy danych niepoddanych strukturyzacji w postaci: maili, czatów, ankiet, artykułów, dokumentów itp. Jednak ich analiza w surowej formie jest mało efektywna i wielce czasochłonna. Analiza sentymentu  pozwala na rozwiązanie tych problemów.\n",
        "\n",
        "Innym zastosowaniem analizy sentymentu może być nieustanne monitorowanie sytuacji na rynku, pozwalające na natychmiastowe wykrywanie kryzysów, np. gwałtowny wzrost negatywnych opinii na temat firmy, bądź produktu. Szybkie zidentyfikowanie zaistniałych problemów pozwala na zminimalizowanie strat wizerunków poprzez akcje PR-owe, bądź nowe oferty dla klientów zdecydowanych na zrezygnowanie z usługi.\n"
      ]
    },
    {
      "cell_type": "code",
      "metadata": {
        "id": "vovGOHpYd2GI"
      },
      "source": [
        "#Wczytanie bibliotek niezbednych w analizie\n",
        "import numpy as np\n",
        "import keras as K\n",
        "import tensorflow as tf\n",
        "import pandas as pd\n",
        "from sklearn import metrics\n",
        "from wordcloud import WordCloud\n",
        "from many_stop_words import get_stop_words\n",
        "from random import sample \n",
        "from keras.preprocessing.text import Tokenizer\n",
        "from tensorflow.keras.preprocessing.sequence import pad_sequences\n",
        "from sklearn.metrics import plot_roc_curve, roc_curve\n",
        "from tensorflow.keras.models import Sequential\n",
        "from sklearn.model_selection import train_test_split\n",
        "from tensorflow.keras.layers import LSTM, Dense, Embedding, Dropout, GRU\n",
        "from tensorflow.keras.layers import Conv1D, MaxPooling1D # do konwolucyjnych\n",
        "import matplotlib.pyplot as plt"
      ],
      "execution_count": null,
      "outputs": []
    },
    {
      "cell_type": "markdown",
      "metadata": {
        "id": "g2PKZvV6d2Gb"
      },
      "source": [
        "## Eksploracja danych"
      ]
    },
    {
      "cell_type": "markdown",
      "metadata": {
        "id": "aJlAGp2Nr9rF"
      },
      "source": [
        "Ceneo indeksuje swoje produkty inkrementacyjnie, co znacząco ułatwiło pozyskanie danych w automatyczny sposób. Przejrzeliśmy około 100 tysięcy indeksów, co przełożyło się na pozyskanie blisko 500 tysięcy opinii."
      ]
    },
    {
      "cell_type": "code",
      "metadata": {
        "id": "vvVQdaIvegWg"
      },
      "source": [
        "#Upload danych do Google Colab - w przypadku uruchamiania lokalnie komórka do pominięcia\n",
        "#from google.colab import files\n",
        "#uploaded = files.upload()"
      ],
      "execution_count": null,
      "outputs": []
    },
    {
      "cell_type": "code",
      "metadata": {
        "id": "pM5TG2ebxL6S"
      },
      "source": [
        "#import io\n",
        "#data_all = pd.read_csv(io.BytesIO(uploaded[\"ceneo_ALL.csv\"]), delimiter=\";\", header=None)\n",
        "#data_all.columns = [\"product_ID\",\"category\",\"sentiment\",\"review\",\"rate\"]"
      ],
      "execution_count": null,
      "outputs": []
    },
    {
      "cell_type": "code",
      "metadata": {
        "id": "ZT7VEel5d2Gf",
        "colab": {
          "base_uri": "https://localhost:8080/",
          "height": 404
        },
        "outputId": "11728448-d07e-448f-ba63-0a71f819d9d5"
      },
      "source": [
        "#Wczytanie zbioru danych CSV to ramki danych\n",
        "data_all = pd.read_csv(\"ceneo_ALL.csv\", delimiter=\";\", header=None)\n",
        "data_all.columns = [\"product_ID\",\"category\",\"sentiment\",\"review\",\"rate\"]"
      ],
      "execution_count": null,
      "outputs": [
        {
          "output_type": "error",
          "ename": "FileNotFoundError",
          "evalue": "ignored",
          "traceback": [
            "\u001b[0;31m---------------------------------------------------------------------------\u001b[0m",
            "\u001b[0;31mFileNotFoundError\u001b[0m                         Traceback (most recent call last)",
            "\u001b[0;32m<ipython-input-6-1b66e07ce578>\u001b[0m in \u001b[0;36m<module>\u001b[0;34m()\u001b[0m\n\u001b[1;32m      1\u001b[0m \u001b[0;31m#Wczytanie zbioru danych CSV to ramki danych\u001b[0m\u001b[0;34m\u001b[0m\u001b[0;34m\u001b[0m\u001b[0;34m\u001b[0m\u001b[0m\n\u001b[0;32m----> 2\u001b[0;31m \u001b[0mdata_all\u001b[0m \u001b[0;34m=\u001b[0m \u001b[0mpd\u001b[0m\u001b[0;34m.\u001b[0m\u001b[0mread_csv\u001b[0m\u001b[0;34m(\u001b[0m\u001b[0;34m\"ceneo_ALL.csv\"\u001b[0m\u001b[0;34m,\u001b[0m \u001b[0mdelimiter\u001b[0m\u001b[0;34m=\u001b[0m\u001b[0;34m\";\"\u001b[0m\u001b[0;34m,\u001b[0m \u001b[0mheader\u001b[0m\u001b[0;34m=\u001b[0m\u001b[0;32mNone\u001b[0m\u001b[0;34m)\u001b[0m\u001b[0;34m\u001b[0m\u001b[0;34m\u001b[0m\u001b[0m\n\u001b[0m\u001b[1;32m      3\u001b[0m \u001b[0mdata_all\u001b[0m\u001b[0;34m.\u001b[0m\u001b[0mcolumns\u001b[0m \u001b[0;34m=\u001b[0m \u001b[0;34m[\u001b[0m\u001b[0;34m\"product_ID\"\u001b[0m\u001b[0;34m,\u001b[0m\u001b[0;34m\"category\"\u001b[0m\u001b[0;34m,\u001b[0m\u001b[0;34m\"sentiment\"\u001b[0m\u001b[0;34m,\u001b[0m\u001b[0;34m\"review\"\u001b[0m\u001b[0;34m,\u001b[0m\u001b[0;34m\"rate\"\u001b[0m\u001b[0;34m]\u001b[0m\u001b[0;34m\u001b[0m\u001b[0;34m\u001b[0m\u001b[0m\n",
            "\u001b[0;32m/usr/local/lib/python3.7/dist-packages/pandas/io/parsers.py\u001b[0m in \u001b[0;36mread_csv\u001b[0;34m(filepath_or_buffer, sep, delimiter, header, names, index_col, usecols, squeeze, prefix, mangle_dupe_cols, dtype, engine, converters, true_values, false_values, skipinitialspace, skiprows, skipfooter, nrows, na_values, keep_default_na, na_filter, verbose, skip_blank_lines, parse_dates, infer_datetime_format, keep_date_col, date_parser, dayfirst, cache_dates, iterator, chunksize, compression, thousands, decimal, lineterminator, quotechar, quoting, doublequote, escapechar, comment, encoding, dialect, error_bad_lines, warn_bad_lines, delim_whitespace, low_memory, memory_map, float_precision)\u001b[0m\n\u001b[1;32m    686\u001b[0m     )\n\u001b[1;32m    687\u001b[0m \u001b[0;34m\u001b[0m\u001b[0m\n\u001b[0;32m--> 688\u001b[0;31m     \u001b[0;32mreturn\u001b[0m \u001b[0m_read\u001b[0m\u001b[0;34m(\u001b[0m\u001b[0mfilepath_or_buffer\u001b[0m\u001b[0;34m,\u001b[0m \u001b[0mkwds\u001b[0m\u001b[0;34m)\u001b[0m\u001b[0;34m\u001b[0m\u001b[0;34m\u001b[0m\u001b[0m\n\u001b[0m\u001b[1;32m    689\u001b[0m \u001b[0;34m\u001b[0m\u001b[0m\n\u001b[1;32m    690\u001b[0m \u001b[0;34m\u001b[0m\u001b[0m\n",
            "\u001b[0;32m/usr/local/lib/python3.7/dist-packages/pandas/io/parsers.py\u001b[0m in \u001b[0;36m_read\u001b[0;34m(filepath_or_buffer, kwds)\u001b[0m\n\u001b[1;32m    452\u001b[0m \u001b[0;34m\u001b[0m\u001b[0m\n\u001b[1;32m    453\u001b[0m     \u001b[0;31m# Create the parser.\u001b[0m\u001b[0;34m\u001b[0m\u001b[0;34m\u001b[0m\u001b[0;34m\u001b[0m\u001b[0m\n\u001b[0;32m--> 454\u001b[0;31m     \u001b[0mparser\u001b[0m \u001b[0;34m=\u001b[0m \u001b[0mTextFileReader\u001b[0m\u001b[0;34m(\u001b[0m\u001b[0mfp_or_buf\u001b[0m\u001b[0;34m,\u001b[0m \u001b[0;34m**\u001b[0m\u001b[0mkwds\u001b[0m\u001b[0;34m)\u001b[0m\u001b[0;34m\u001b[0m\u001b[0;34m\u001b[0m\u001b[0m\n\u001b[0m\u001b[1;32m    455\u001b[0m \u001b[0;34m\u001b[0m\u001b[0m\n\u001b[1;32m    456\u001b[0m     \u001b[0;32mif\u001b[0m \u001b[0mchunksize\u001b[0m \u001b[0;32mor\u001b[0m \u001b[0miterator\u001b[0m\u001b[0;34m:\u001b[0m\u001b[0;34m\u001b[0m\u001b[0;34m\u001b[0m\u001b[0m\n",
            "\u001b[0;32m/usr/local/lib/python3.7/dist-packages/pandas/io/parsers.py\u001b[0m in \u001b[0;36m__init__\u001b[0;34m(self, f, engine, **kwds)\u001b[0m\n\u001b[1;32m    946\u001b[0m             \u001b[0mself\u001b[0m\u001b[0;34m.\u001b[0m\u001b[0moptions\u001b[0m\u001b[0;34m[\u001b[0m\u001b[0;34m\"has_index_names\"\u001b[0m\u001b[0;34m]\u001b[0m \u001b[0;34m=\u001b[0m \u001b[0mkwds\u001b[0m\u001b[0;34m[\u001b[0m\u001b[0;34m\"has_index_names\"\u001b[0m\u001b[0;34m]\u001b[0m\u001b[0;34m\u001b[0m\u001b[0;34m\u001b[0m\u001b[0m\n\u001b[1;32m    947\u001b[0m \u001b[0;34m\u001b[0m\u001b[0m\n\u001b[0;32m--> 948\u001b[0;31m         \u001b[0mself\u001b[0m\u001b[0;34m.\u001b[0m\u001b[0m_make_engine\u001b[0m\u001b[0;34m(\u001b[0m\u001b[0mself\u001b[0m\u001b[0;34m.\u001b[0m\u001b[0mengine\u001b[0m\u001b[0;34m)\u001b[0m\u001b[0;34m\u001b[0m\u001b[0;34m\u001b[0m\u001b[0m\n\u001b[0m\u001b[1;32m    949\u001b[0m \u001b[0;34m\u001b[0m\u001b[0m\n\u001b[1;32m    950\u001b[0m     \u001b[0;32mdef\u001b[0m \u001b[0mclose\u001b[0m\u001b[0;34m(\u001b[0m\u001b[0mself\u001b[0m\u001b[0;34m)\u001b[0m\u001b[0;34m:\u001b[0m\u001b[0;34m\u001b[0m\u001b[0;34m\u001b[0m\u001b[0m\n",
            "\u001b[0;32m/usr/local/lib/python3.7/dist-packages/pandas/io/parsers.py\u001b[0m in \u001b[0;36m_make_engine\u001b[0;34m(self, engine)\u001b[0m\n\u001b[1;32m   1178\u001b[0m     \u001b[0;32mdef\u001b[0m \u001b[0m_make_engine\u001b[0m\u001b[0;34m(\u001b[0m\u001b[0mself\u001b[0m\u001b[0;34m,\u001b[0m \u001b[0mengine\u001b[0m\u001b[0;34m=\u001b[0m\u001b[0;34m\"c\"\u001b[0m\u001b[0;34m)\u001b[0m\u001b[0;34m:\u001b[0m\u001b[0;34m\u001b[0m\u001b[0;34m\u001b[0m\u001b[0m\n\u001b[1;32m   1179\u001b[0m         \u001b[0;32mif\u001b[0m \u001b[0mengine\u001b[0m \u001b[0;34m==\u001b[0m \u001b[0;34m\"c\"\u001b[0m\u001b[0;34m:\u001b[0m\u001b[0;34m\u001b[0m\u001b[0;34m\u001b[0m\u001b[0m\n\u001b[0;32m-> 1180\u001b[0;31m             \u001b[0mself\u001b[0m\u001b[0;34m.\u001b[0m\u001b[0m_engine\u001b[0m \u001b[0;34m=\u001b[0m \u001b[0mCParserWrapper\u001b[0m\u001b[0;34m(\u001b[0m\u001b[0mself\u001b[0m\u001b[0;34m.\u001b[0m\u001b[0mf\u001b[0m\u001b[0;34m,\u001b[0m \u001b[0;34m**\u001b[0m\u001b[0mself\u001b[0m\u001b[0;34m.\u001b[0m\u001b[0moptions\u001b[0m\u001b[0;34m)\u001b[0m\u001b[0;34m\u001b[0m\u001b[0;34m\u001b[0m\u001b[0m\n\u001b[0m\u001b[1;32m   1181\u001b[0m         \u001b[0;32melse\u001b[0m\u001b[0;34m:\u001b[0m\u001b[0;34m\u001b[0m\u001b[0;34m\u001b[0m\u001b[0m\n\u001b[1;32m   1182\u001b[0m             \u001b[0;32mif\u001b[0m \u001b[0mengine\u001b[0m \u001b[0;34m==\u001b[0m \u001b[0;34m\"python\"\u001b[0m\u001b[0;34m:\u001b[0m\u001b[0;34m\u001b[0m\u001b[0;34m\u001b[0m\u001b[0m\n",
            "\u001b[0;32m/usr/local/lib/python3.7/dist-packages/pandas/io/parsers.py\u001b[0m in \u001b[0;36m__init__\u001b[0;34m(self, src, **kwds)\u001b[0m\n\u001b[1;32m   2008\u001b[0m         \u001b[0mkwds\u001b[0m\u001b[0;34m[\u001b[0m\u001b[0;34m\"usecols\"\u001b[0m\u001b[0;34m]\u001b[0m \u001b[0;34m=\u001b[0m \u001b[0mself\u001b[0m\u001b[0;34m.\u001b[0m\u001b[0musecols\u001b[0m\u001b[0;34m\u001b[0m\u001b[0;34m\u001b[0m\u001b[0m\n\u001b[1;32m   2009\u001b[0m \u001b[0;34m\u001b[0m\u001b[0m\n\u001b[0;32m-> 2010\u001b[0;31m         \u001b[0mself\u001b[0m\u001b[0;34m.\u001b[0m\u001b[0m_reader\u001b[0m \u001b[0;34m=\u001b[0m \u001b[0mparsers\u001b[0m\u001b[0;34m.\u001b[0m\u001b[0mTextReader\u001b[0m\u001b[0;34m(\u001b[0m\u001b[0msrc\u001b[0m\u001b[0;34m,\u001b[0m \u001b[0;34m**\u001b[0m\u001b[0mkwds\u001b[0m\u001b[0;34m)\u001b[0m\u001b[0;34m\u001b[0m\u001b[0;34m\u001b[0m\u001b[0m\n\u001b[0m\u001b[1;32m   2011\u001b[0m         \u001b[0mself\u001b[0m\u001b[0;34m.\u001b[0m\u001b[0munnamed_cols\u001b[0m \u001b[0;34m=\u001b[0m \u001b[0mself\u001b[0m\u001b[0;34m.\u001b[0m\u001b[0m_reader\u001b[0m\u001b[0;34m.\u001b[0m\u001b[0munnamed_cols\u001b[0m\u001b[0;34m\u001b[0m\u001b[0;34m\u001b[0m\u001b[0m\n\u001b[1;32m   2012\u001b[0m \u001b[0;34m\u001b[0m\u001b[0m\n",
            "\u001b[0;32mpandas/_libs/parsers.pyx\u001b[0m in \u001b[0;36mpandas._libs.parsers.TextReader.__cinit__\u001b[0;34m()\u001b[0m\n",
            "\u001b[0;32mpandas/_libs/parsers.pyx\u001b[0m in \u001b[0;36mpandas._libs.parsers.TextReader._setup_parser_source\u001b[0;34m()\u001b[0m\n",
            "\u001b[0;31mFileNotFoundError\u001b[0m: [Errno 2] No such file or directory: 'ceneo_ALL.csv'"
          ]
        }
      ]
    },
    {
      "cell_type": "markdown",
      "metadata": {
        "id": "pesv4FEN6Lkm"
      },
      "source": [
        "WordCloud dla losowych 10000 recenzji w zbiorze danych"
      ]
    },
    {
      "cell_type": "code",
      "metadata": {
        "id": "dohpJ_vM6Hpw",
        "colab": {
          "base_uri": "https://localhost:8080/",
          "height": 215
        },
        "outputId": "b9a225bc-0d89-4201-d034-2e9c3a635e9f"
      },
      "source": [
        "# Wybór 10000 losowych recenzji ze zbioru\n",
        "losowe_recenzje = sample(list(data_all['review']), 10000)\n",
        "\n",
        "# Stop words dla języka polskiego\n",
        "stop_words = get_stop_words('pl')\n",
        "\n",
        "# WordCloud\n",
        "wordcloud = WordCloud(\n",
        "                    background_color='white',\n",
        "                    stopwords=stop_words,\n",
        "                    max_words=120,\n",
        "                    max_font_size=45,\n",
        "                    random_state=42 # seed do rozmieszczenia tekstu\n",
        ").generate(str(losowe_recenzje))\n",
        "\n",
        "print(wordcloud)\n",
        "fig = plt.figure(1)\n",
        "plt.imshow(wordcloud)\n",
        "plt.axis('off')\n",
        "plt.show()"
      ],
      "execution_count": null,
      "outputs": [
        {
          "output_type": "stream",
          "text": [
            "<wordcloud.wordcloud.WordCloud object at 0x7f8085c81dd8>\n"
          ],
          "name": "stdout"
        },
        {
          "output_type": "display_data",
          "data": {
            "image/png": "[encoded data removed]",
            "text/plain": [
              "<Figure size 432x288 with 1 Axes>"
            ]
          },
          "metadata": {
            "tags": [],
            "needs_background": "light"
          }
        }
      ]
    },
    {
      "cell_type": "markdown",
      "metadata": {
        "id": "QBH4OH6Fod9c"
      },
      "source": [
        "Rozkład kategorii Polecam/Nie polecam jest mocno niesymetryczny w stronę polecania. Jest to ciekawe zjawisko w kontekście agregatorów opinii, gdzie to zazwyczaj opinie negatywne są chętniej wystawiane przez kupujących."
      ]
    },
    {
      "cell_type": "code",
      "metadata": {
        "id": "babhpsJqd2Gg",
        "colab": {
          "base_uri": "https://localhost:8080/"
        },
        "outputId": "bba94b3f-07a8-4570-bd4e-950a0a93ca0d"
      },
      "source": [
        "data_all.sentiment.value_counts()"
      ],
      "execution_count": null,
      "outputs": [
        {
          "output_type": "execute_result",
          "data": {
            "text/plain": [
              "Polecam        432101\n",
              "Nie polecam     32080\n",
              "Brak            24949\n",
              "Name: sentiment, dtype: int64"
            ]
          },
          "metadata": {
            "tags": []
          },
          "execution_count": 94
        }
      ]
    },
    {
      "cell_type": "markdown",
      "metadata": {
        "id": "Vnqwzv-5ndXe"
      },
      "source": [
        "Zobaczmy jak rozkładają się oceny produktu w zależności od tego czy klient poleca produkt czy nie.\n",
        "Warto zauważyć że klienci są w większości zdecydowani co do decyzji, i kiedy polecają produkt dają mu co najmniej 4 gwiazdki, a jeżeli nie wtedy poniżej 3 (z drobnymi wyjątkami).\n",
        "Nasza analiza skupiać będzie się na przydzieleniu opinii kategorii Polecam/Nie polecam.\n",
        "Ponieważ oceny z brakiem polecania bądź też nie w pewien sposób pokrywają się z tymi, które zostały przydzielone przy nie polecaniu, łączymy kategorię Brak oraz Nie polecam."
      ]
    },
    {
      "cell_type": "code",
      "metadata": {
        "id": "Bzxs_Uqid2Gi",
        "colab": {
          "base_uri": "https://localhost:8080/",
          "height": 462
        },
        "outputId": "b6f28b24-7284-43e7-e0f0-f501431542b6"
      },
      "source": [
        "data_all.groupby([\"sentiment\", \"rate\"]).count()"
      ],
      "execution_count": null,
      "outputs": [
        {
          "output_type": "execute_result",
          "data": {
            "text/html": [
              "<div>\n",
              "<style scoped>\n",
              "    .dataframe tbody tr th:only-of-type {\n",
              "        vertical-align: middle;\n",
              "    }\n",
              "\n",
              "    .dataframe tbody tr th {\n",
              "        vertical-align: top;\n",
              "    }\n",
              "\n",
              "    .dataframe thead th {\n",
              "        text-align: right;\n",
              "    }\n",
              "</style>\n",
              "<table border=\"1\" class=\"dataframe\">\n",
              "  <thead>\n",
              "    <tr style=\"text-align: right;\">\n",
              "      <th></th>\n",
              "      <th></th>\n",
              "      <th>product_ID</th>\n",
              "      <th>category</th>\n",
              "      <th>review</th>\n",
              "    </tr>\n",
              "    <tr>\n",
              "      <th>sentiment</th>\n",
              "      <th>rate</th>\n",
              "      <th></th>\n",
              "      <th></th>\n",
              "      <th></th>\n",
              "    </tr>\n",
              "  </thead>\n",
              "  <tbody>\n",
              "    <tr>\n",
              "      <th rowspan=\"2\" valign=\"top\">Brak</th>\n",
              "      <th>3,5/5</th>\n",
              "      <td>4615</td>\n",
              "      <td>4615</td>\n",
              "      <td>4615</td>\n",
              "    </tr>\n",
              "    <tr>\n",
              "      <th>3/5</th>\n",
              "      <td>20334</td>\n",
              "      <td>20334</td>\n",
              "      <td>20334</td>\n",
              "    </tr>\n",
              "    <tr>\n",
              "      <th rowspan=\"8\" valign=\"top\">Nie polecam</th>\n",
              "      <th>0,5/5</th>\n",
              "      <td>3712</td>\n",
              "      <td>3712</td>\n",
              "      <td>3712</td>\n",
              "    </tr>\n",
              "    <tr>\n",
              "      <th>0/5</th>\n",
              "      <td>477</td>\n",
              "      <td>477</td>\n",
              "      <td>477</td>\n",
              "    </tr>\n",
              "    <tr>\n",
              "      <th>1,5/5</th>\n",
              "      <td>562</td>\n",
              "      <td>562</td>\n",
              "      <td>562</td>\n",
              "    </tr>\n",
              "    <tr>\n",
              "      <th>1/5</th>\n",
              "      <td>13717</td>\n",
              "      <td>13717</td>\n",
              "      <td>13717</td>\n",
              "    </tr>\n",
              "    <tr>\n",
              "      <th>2,5/5</th>\n",
              "      <td>983</td>\n",
              "      <td>983</td>\n",
              "      <td>983</td>\n",
              "    </tr>\n",
              "    <tr>\n",
              "      <th>2/5</th>\n",
              "      <td>12545</td>\n",
              "      <td>12545</td>\n",
              "      <td>12545</td>\n",
              "    </tr>\n",
              "    <tr>\n",
              "      <th>3,5/5</th>\n",
              "      <td>65</td>\n",
              "      <td>65</td>\n",
              "      <td>65</td>\n",
              "    </tr>\n",
              "    <tr>\n",
              "      <th>3/5</th>\n",
              "      <td>19</td>\n",
              "      <td>19</td>\n",
              "      <td>19</td>\n",
              "    </tr>\n",
              "    <tr>\n",
              "      <th rowspan=\"3\" valign=\"top\">Polecam</th>\n",
              "      <th>4,5/5</th>\n",
              "      <td>26223</td>\n",
              "      <td>26223</td>\n",
              "      <td>26222</td>\n",
              "    </tr>\n",
              "    <tr>\n",
              "      <th>4/5</th>\n",
              "      <td>92077</td>\n",
              "      <td>92077</td>\n",
              "      <td>92076</td>\n",
              "    </tr>\n",
              "    <tr>\n",
              "      <th>5/5</th>\n",
              "      <td>313801</td>\n",
              "      <td>313801</td>\n",
              "      <td>313800</td>\n",
              "    </tr>\n",
              "  </tbody>\n",
              "</table>\n",
              "</div>"
            ],
            "text/plain": [
              "                   product_ID  category  review\n",
              "sentiment   rate                               \n",
              "Brak        3,5/5        4615      4615    4615\n",
              "            3/5         20334     20334   20334\n",
              "Nie polecam 0,5/5        3712      3712    3712\n",
              "            0/5           477       477     477\n",
              "            1,5/5         562       562     562\n",
              "            1/5         13717     13717   13717\n",
              "            2,5/5         983       983     983\n",
              "            2/5         12545     12545   12545\n",
              "            3,5/5          65        65      65\n",
              "            3/5            19        19      19\n",
              "Polecam     4,5/5       26223     26223   26222\n",
              "            4/5         92077     92077   92076\n",
              "            5/5        313801    313801  313800"
            ]
          },
          "metadata": {
            "tags": []
          },
          "execution_count": 95
        }
      ]
    },
    {
      "cell_type": "code",
      "metadata": {
        "id": "HQ2QmBC2d2Gk"
      },
      "source": [
        "rev_txt = data_all[\"review\"].astype(str)\n",
        "rev_labels = data_all[\"sentiment\"]\n",
        "rev_labels = rev_labels.eq('Polecam').mul(1)"
      ],
      "execution_count": null,
      "outputs": []
    },
    {
      "cell_type": "markdown",
      "metadata": {
        "id": "-N3TD4W1d2Go"
      },
      "source": [
        "# Tokenizacja"
      ]
    },
    {
      "cell_type": "markdown",
      "metadata": {
        "id": "HVo2M2wGqSZ0"
      },
      "source": [
        "Ponieważ model działa na zasadzie chińskiego pokoju nie będzie rozumiał słów po polsku. Musimy \"zmatematyzować\" język naturalny, a jedną z najbardziej popularnych w tego typach analizach metod jest tokenizacja, czyli przypisanie słowom w tekście liczby naturalnej.\n",
        "\n",
        "Aby nie analizować outlierów definiujemy górną granicę liczby słów, które chcemy zakodować, i układamy w tablicy słowa według ich częstotliwości, aż dochodzimy do górnej granicy, słowa poza nią kodujemy jako jeden numer.\n",
        "\n",
        "Ponieważ tokenizator, którego używamy pierwsze dwa indeksy rezerwuje na słowa poza granicą słów, oraz \"puste\" słowa (więcej o tym w dziale \"Padding\") w dalszej analizie często spotykać będziemy się z num_words + 2"
      ]
    },
    {
      "cell_type": "code",
      "metadata": {
        "id": "zlq6QQCdd2Gp"
      },
      "source": [
        "num_words = 20000 #Tyle najczęstszych słów zostanie wzięte pod uwagę \n",
        "oov_token='<UNK>' #Jak kodować słowa spoza 20000 najczęstszych\n",
        "\n",
        "tk = Tokenizer(oov_token = oov_token, num_words=num_words+1)\n",
        "\n",
        "tk.fit_on_texts(rev_txt)"
      ],
      "execution_count": null,
      "outputs": []
    },
    {
      "cell_type": "markdown",
      "metadata": {
        "id": "DMxhqm74d2Gr"
      },
      "source": [
        "### Parowanie słowa do indeksu"
      ]
    },
    {
      "cell_type": "code",
      "metadata": {
        "id": "TvrfOjqkd2Gu"
      },
      "source": [
        "tk.word_index = {e:i for e,i in tk.word_index.items() if i <= num_words} # <= because tokenizer is 1 indexed\n",
        "tk.word_index[tk.oov_token] = num_words + 1\n",
        "# print(tk.word_index)\n",
        "\n",
        "# Stworzenie sekwencji słów zamienionych na indexy\n",
        "rev_seq = tk.texts_to_sequences(rev_txt)"
      ],
      "execution_count": null,
      "outputs": []
    },
    {
      "cell_type": "code",
      "metadata": {
        "id": "IniQp7dzd2Gv",
        "colab": {
          "base_uri": "https://localhost:8080/"
        },
        "outputId": "1b09ac95-7950-437e-e0ac-492ebafe517a"
      },
      "source": [
        "list(tk.word_index.items())[0:10]"
      ],
      "execution_count": null,
      "outputs": [
        {
          "output_type": "execute_result",
          "data": {
            "text/plain": [
              "[('<UNK>', 20001),\n",
              " ('i', 2),\n",
              " ('w', 3),\n",
              " ('nie', 4),\n",
              " ('jest', 5),\n",
              " ('się', 6),\n",
              " ('na', 7),\n",
              " ('z', 8),\n",
              " ('bardzo', 9),\n",
              " ('to', 10)]"
            ]
          },
          "metadata": {
            "tags": []
          },
          "execution_count": 99
        }
      ]
    },
    {
      "cell_type": "code",
      "metadata": {
        "id": "exp_LbXmd2Gw",
        "colab": {
          "base_uri": "https://localhost:8080/"
        },
        "outputId": "71ecb63a-fc36-4361-c24b-33be383c683a"
      },
      "source": [
        "print('Tekst: ', rev_txt[256])\n",
        "print('Indeksy: ', rev_seq[256])\n",
        "print('Opinia: ', rev_labels[256])"
      ],
      "execution_count": null,
      "outputs": [
        {
          "output_type": "stream",
          "text": [
            "Tekst:  To bezsprzecznie najzabawniejsza z powieści opowiadających o Detektywie Monku. Historia jest przemyślana, rozbrajająca i wciaga bez reszty. Jedynym minusem tej ksiązki jest jej nieduża objętość, cięzko się oderwać aby nie przeczytać jej za jedym razem. Polecam\n",
            "Indeksy:  [10, 20001, 20001, 8, 923, 20001, 23, 20001, 20001, 612, 5, 5990, 20001, 2, 20001, 51, 3353, 572, 277, 41, 11045, 5, 62, 12020, 8260, 11758, 6, 1241, 195, 4, 792, 62, 21, 20001, 327, 12]\n",
            "Opinia:  1\n"
          ],
          "name": "stdout"
        }
      ]
    },
    {
      "cell_type": "markdown",
      "metadata": {
        "id": "TNu7UPO9d2Gy"
      },
      "source": [
        "# Sprowadzanie recenzji do tych samych długości"
      ]
    },
    {
      "cell_type": "markdown",
      "metadata": {
        "id": "mCM_1ZMuaZhm"
      },
      "source": [
        "Model LSTM wymaga określonego kształtu danych. Dane te powinny być wprowadzone w postaci macierzy, gdzie każdy wiersz odpowiada jednej recenzji, a każda komórka jednemu słowu. Macierz musi mieć wyspecifikowane wymiary. Oznacza to, że należy sprowadzić każdą recenzję do jednakowej długości (tzw. do jednakowej liczby słów). W tej analizie przyjęliśmy długość pojedynczej recenzji jako 30 słów, ale należałoby wypróbować również inne wartości. Każda recenzja zawierająca powyżej 30 słów została ucięta, natomiast recenzje zawierające poniżej 30 słów zostały uzupełnione przez index 0. "
      ]
    },
    {
      "cell_type": "code",
      "metadata": {
        "id": "0C9KYoI6d2Gy",
        "colab": {
          "base_uri": "https://localhost:8080/"
        },
        "outputId": "ec4b8d1a-a79b-481f-8c71-a948a945c3c7"
      },
      "source": [
        "max_doc_length = 30 # Liczba maksymalna słów w recenzji, pozostałe słowa zostaną ucięte a braki zapełnione przez liczbę 0\n",
        "truncating = 'post' # Usuwanie słów na końcu recenzji (żeby było 30 słów)\n",
        "padding = 'post' # Dodawanie 0 na końcu recenzji (żeby było 30 słów)\n",
        "\n",
        "encoded_docs = pad_sequences(rev_seq, truncating = truncating, padding = padding, maxlen = max_doc_length)\n",
        "print(encoded_docs)"
      ],
      "execution_count": null,
      "outputs": [
        {
          "output_type": "stream",
          "text": [
            "[[   59     0     0 ...     0     0     0]\n",
            " [   59     0     0 ...     0     0     0]\n",
            " [ 4866 20001  2249 ...     6    91   703]\n",
            " ...\n",
            " [  832     2   541 ...     0     0     0]\n",
            " [  630    27  7187 ...    22   470    84]\n",
            " [ 2849   398     0 ...     0     0     0]]\n"
          ],
          "name": "stdout"
        }
      ]
    },
    {
      "cell_type": "markdown",
      "metadata": {
        "id": "58oX4xJZd2G0"
      },
      "source": [
        "# Train Test Split"
      ]
    },
    {
      "cell_type": "markdown",
      "metadata": {
        "id": "q_vhJimi7NXw"
      },
      "source": [
        "Podzieliliśmy zbiór danych na dane treningowe (do wytrenowania modelu), dane walidacyjne (do wyboru najlepszej architektury sieci i tuningu hiperparametrów) oraz dane testowe (do ewaluacji ostatecznego modelu) w proporcjach 60:20:20."
      ]
    },
    {
      "cell_type": "code",
      "metadata": {
        "id": "onWi-TI_d2G0",
        "colab": {
          "base_uri": "https://localhost:8080/"
        },
        "outputId": "dd941b48-e214-4c67-cca0-0545d1485bf3"
      },
      "source": [
        "X,y=encoded_docs,rev_labels\n",
        "# Dzielimy zbiór danych na zbiór treningowy i testowy w proporcji 60:40\n",
        "x_train, x_test, y_train, y_test = train_test_split(X, y, test_size=0.4, random_state=42)\n",
        "# Dzielimy dane testowe na dane walidacyjne i testowe w proporcji 50:50 (po 20% całego zbioru danych)\n",
        "x_dev, x_test, y_dev, y_test = train_test_split(x_test, y_test, test_size=0.5, random_state=42)\n",
        "\n",
        "y_test = np.asarray(y_test).astype('float32')\n",
        "y_train = np.asarray(y_train).astype('float32')\n",
        "y_dev = np.asarray(y_dev).astype('float32')\n",
        "\n",
        "print(y_train.shape,y_dev.shape,y_test.shape)"
      ],
      "execution_count": null,
      "outputs": [
        {
          "output_type": "stream",
          "text": [
            "(293478,) (97826,) (97826,)\n"
          ],
          "name": "stdout"
        }
      ]
    },
    {
      "cell_type": "markdown",
      "metadata": {
        "id": "Uk2z5jwtsVT3"
      },
      "source": [
        "#LSTM - krótko o metodzie"
      ]
    },
    {
      "cell_type": "markdown",
      "metadata": {
        "id": "huXnUIL4sf5u"
      },
      "source": [
        "Sieci LSTM (Long Short Term Memory networks) są specjalną odmianą Rekurencyjnych sieci neuronowych. Kluczową zaletą tego typu sieci jest umiejętność zapamiętywania długoterminowych zależności w danych. Jest to szczególnie istotne w przypadku danych tekstowych, gdzie ważna jest struktura języka i powiązania pomiędzy słowami. Przykładowo w zdaniu: \"Mam problem, ale nie wiem, jak go rozwiązać\", słowo \"rozwiązać\" jest powiązane ze słowem \"problem\". Słowa te występują w znacznej odległości między sobą i zwykła rekurencyjna sieć neuronowa miałaby problem z uwzględnieniem tak odległej zależności. Sieć LSTM pozwala natomiast na wyłapanie takich powiązań i jest w stanie nauczyć się, jakie informacje należy przechowywać w pamięci długoterminowej, a jakie zignorować. Dokonywane jest to za pomocą specjalnych bramek."
      ]
    },
    {
      "cell_type": "markdown",
      "metadata": {
        "id": "Q2cy_NqJ09Ew"
      },
      "source": [
        "# Budowa Modelu"
      ]
    },
    {
      "cell_type": "markdown",
      "metadata": {
        "id": "5qMOBqrHftV3"
      },
      "source": [
        "Do budowy modeli w analizie sentymentu wykorzystuje się różne techniki i architektury sieci. Z uwagi na długi czas wymagany do treningu modelu oraz wiele możliwych struktur sieci i wartości ich hiperparametrów, postanowiliśmy nie wykorzystywać walidacji krzyżowej. Przyjęliśmy następującą metodykę. Na początku zbudowaliśmy model jedynie z warstwą Embedding, dwiema warstwami LSTM oraz jedną warstwą Dense. Taki model wytrenowaliśmy na zbiorze treningowym oraz sprawdziliśmy Accuracy na zbiorze danych walidacyjnych. Następnie metodą prób i błędów zmienialiśmy wartości hiperparametrów oraz dodawaliśmy lub usuwaliśmy poszczególne warstwy modelu (również rozpatrując różne kolejności warstw), sprawdzając, czy poszczególne zmiany powodują wzrost accuracy.\n",
        "Ze względu na wykorzystanie różnych technik, postanowiliśmy podzielić modele na 3 rodzaje: (1) model z warstwami Embedding, LSTM i Dense; (2) model z warstwami Embedding, LSTM, Dense oraz Dropout (w celu zapobiegania przetrenowaniu modelu); (3) model z warstwami Embedding, LSTM, Dense oraz CNN (warstwa konwolucyjna).\n",
        "Dla każdego rodzaju modelu wybraliśmy takie architektury sieci i wartości hiperparametrów na poszczególnych warstwach, które wspomnianą wcześniej metodyką dawały najlepsze accuracy.\n",
        "Poniżej prezentujemy wspomniane trzy modele. W dalszej części raportu zamieściliśmy wytrenowanie tych modeli na danych treningowych, a następnie porównanie ich zdolności predykcyjnych na zbiorze testowym."
      ]
    },
    {
      "cell_type": "markdown",
      "metadata": {
        "id": "xAExiGS9Z-M_"
      },
      "source": [
        "#### Model 1 – 3 warstwy LSTM\n"
      ]
    },
    {
      "cell_type": "markdown",
      "metadata": {
        "id": "yL_x5QGSXGiq"
      },
      "source": [
        "Na początek zdefiniujemy długość wektorów, na który zamieniony będzie wektor ztokenizowanych słów.\n",
        "Ponieważ ztokenizowane słowa są niezależne od siebie, powiążemy je ze sobą na bazie częstotliwości występowania, co realizujemy warstwą Embedding"
      ]
    },
    {
      "cell_type": "code",
      "metadata": {
        "id": "5zzpxwSKZ3LR"
      },
      "source": [
        "# Długość wektorów z warstwy Embedding, wspólna dla wszystkich modeli\n",
        "embedding_length = 100"
      ],
      "execution_count": null,
      "outputs": []
    },
    {
      "cell_type": "code",
      "metadata": {
        "id": "vxXhh8CrZ7OO",
        "colab": {
          "base_uri": "https://localhost:8080/"
        },
        "outputId": "2fbb2d26-26c9-49ad-990a-61fd938578c6"
      },
      "source": [
        "model_bazowy = Sequential()\n",
        "model_bazowy.add(Embedding(input_dim = num_words+2, output_dim = embedding_length, input_length = max_doc_length))\n",
        "model_bazowy.add(LSTM(units = 64, input_shape = (max_doc_length, embedding_length), return_sequences = True, unroll = True, name='LSTM'))\n",
        "model_bazowy.add(LSTM(units = 64, input_shape = (max_doc_length, embedding_length), return_sequences = True, unroll = True, name='LSTM_2'))\n",
        "model_bazowy.add(LSTM(units = 64, return_sequences = False, name ='LSTM_3'))\n",
        "model_bazowy.add(Dense(16, name = \"Dense1\"))\n",
        "model_bazowy.add(Dense(units=1, activation = 'sigmoid', name = \"Dense2\"))\n",
        "\n",
        "model_bazowy.compile(loss='binary_crossentropy',\n",
        "              optimizer = 'adam',\n",
        "              metrics = ['accuracy'])\n",
        "\n",
        "model_bazowy.summary()"
      ],
      "execution_count": null,
      "outputs": [
        {
          "output_type": "stream",
          "text": [
            "Model: \"sequential_12\"\n",
            "_________________________________________________________________\n",
            "Layer (type)                 Output Shape              Param #   \n",
            "=================================================================\n",
            "embedding_12 (Embedding)     (None, 30, 100)           2000200   \n",
            "_________________________________________________________________\n",
            "LSTM (LSTM)                  (None, 30, 64)            42240     \n",
            "_________________________________________________________________\n",
            "LSTM_2 (LSTM)                (None, 30, 64)            33024     \n",
            "_________________________________________________________________\n",
            "LSTM_3 (LSTM)                (None, 64)                33024     \n",
            "_________________________________________________________________\n",
            "Dense1 (Dense)               (None, 16)                1040      \n",
            "_________________________________________________________________\n",
            "Dense2 (Dense)               (None, 1)                 17        \n",
            "=================================================================\n",
            "Total params: 2,109,545\n",
            "Trainable params: 2,109,545\n",
            "Non-trainable params: 0\n",
            "_________________________________________________________________\n"
          ],
          "name": "stdout"
        }
      ]
    },
    {
      "cell_type": "markdown",
      "metadata": {
        "id": "vcCiF8dxbYRH"
      },
      "source": [
        "#### Model 2 – 3 warstwy LSTM + dropout"
      ]
    },
    {
      "cell_type": "code",
      "metadata": {
        "id": "aRxif1VBbM0N",
        "colab": {
          "base_uri": "https://localhost:8080/"
        },
        "outputId": "524bec1a-877d-410e-f98c-51fdf46b50fd"
      },
      "source": [
        "model_drop = Sequential()\n",
        "model_drop.add(Embedding(input_dim = num_words+2, output_dim = embedding_length, input_length = max_doc_length))\n",
        "model_drop.add(LSTM(units = 64, input_shape = (max_doc_length, embedding_length), return_sequences = True, unroll = True, name='LSTM'))\n",
        "model_drop.add(Dropout(rate = 0.2))\n",
        "model_drop.add(LSTM(units = 64, input_shape = (max_doc_length, embedding_length), return_sequences = True, unroll = True, name='LSTM_2'))\n",
        "model_drop.add(Dropout(rate = 0.1))\n",
        "model_drop.add(LSTM(units = 64, return_sequences = False, name ='LSTM_3'))\n",
        "model_drop.add(Dropout(rate = 0.2))\n",
        "model_drop.add(Dense(16, name = \"Dense1\"))\n",
        "model_drop.add(Dense(units=1, activation = 'sigmoid', name = \"Dense2\"))\n",
        "\n",
        "model_drop.compile(loss='binary_crossentropy',\n",
        "              optimizer = 'adam',\n",
        "              metrics = ['accuracy'])\n",
        "\n",
        "model_drop.summary()"
      ],
      "execution_count": null,
      "outputs": [
        {
          "output_type": "stream",
          "text": [
            "Model: \"sequential_13\"\n",
            "_________________________________________________________________\n",
            "Layer (type)                 Output Shape              Param #   \n",
            "=================================================================\n",
            "embedding_13 (Embedding)     (None, 30, 100)           2000200   \n",
            "_________________________________________________________________\n",
            "LSTM (LSTM)                  (None, 30, 64)            42240     \n",
            "_________________________________________________________________\n",
            "dropout_21 (Dropout)         (None, 30, 64)            0         \n",
            "_________________________________________________________________\n",
            "LSTM_2 (LSTM)                (None, 30, 64)            33024     \n",
            "_________________________________________________________________\n",
            "dropout_22 (Dropout)         (None, 30, 64)            0         \n",
            "_________________________________________________________________\n",
            "LSTM_3 (LSTM)                (None, 64)                33024     \n",
            "_________________________________________________________________\n",
            "dropout_23 (Dropout)         (None, 64)                0         \n",
            "_________________________________________________________________\n",
            "Dense1 (Dense)               (None, 16)                1040      \n",
            "_________________________________________________________________\n",
            "Dense2 (Dense)               (None, 1)                 17        \n",
            "=================================================================\n",
            "Total params: 2,109,545\n",
            "Trainable params: 2,109,545\n",
            "Non-trainable params: 0\n",
            "_________________________________________________________________\n"
          ],
          "name": "stdout"
        }
      ]
    },
    {
      "cell_type": "markdown",
      "metadata": {
        "id": "pHREcyzCbCX5"
      },
      "source": [
        "#### Model 3 – 3 warstwy LSTM + warstwa CNN\n"
      ]
    },
    {
      "cell_type": "markdown",
      "metadata": {
        "id": "xTkAf6PSVyMK"
      },
      "source": [
        "Warstwy konwolucyjne służą do znajdowania wzorów przestrzennych na obrazie poprzez przesuwanie małego okna jądra na obrazie. Okna te są często małe, mogą mieć rozmiar 3x3 piksele, a każda komórka jądra ma przypisaną wagę. Gdy jądro przesuwa się po obrazie, piksel po pikselu, wagi jądra są mnożone przez wartość piksela na obrazku poniżej, a następnie wszystkie pomnożone wartości są sumowane, aby uzyskać wyjściową, przefiltrowaną wartość piksela.\n",
        "\n",
        "W przypadku klasyfikacji tekstu jądro konwolucyjne nadal będzie przesuwanym oknem, jego zadaniem jest jedynie przyglądanie się sekwencjom wielu słów, a nie małym obszarom pikseli w obrazie. Jądra nie będą już kwadratowe, zamiast tego będą szerokim prostokątem, w naszym modelu o wymiarach embedding_length x 5. "
      ]
    },
    {
      "cell_type": "code",
      "metadata": {
        "id": "WeZRN5G6bNBE",
        "colab": {
          "base_uri": "https://localhost:8080/"
        },
        "outputId": "b99c9f43-1ed5-4f03-d76e-956dd4266714"
      },
      "source": [
        "model_CNN = Sequential()\n",
        "model_CNN.add(Embedding(input_dim = num_words+2, output_dim = embedding_length, input_length = max_doc_length))\n",
        "model_CNN.add(Conv1D(filters = 64, kernel_size=5, padding='same'))\n",
        "model_CNN.add(MaxPooling1D(pool_size = 5))\n",
        "model_CNN.add(LSTM(units = 64, input_shape = (max_doc_length, embedding_length), return_sequences = True, unroll = True, name='LSTM'))\n",
        "model_CNN.add(LSTM(units = 64, input_shape = (max_doc_length, embedding_length), return_sequences = True, unroll = True, name='LSTM_2'))\n",
        "model_CNN.add(LSTM(units = 64, return_sequences = False, name ='LSTM_3'))\n",
        "model_CNN.add(Dense(16, name = \"Dense1\"))\n",
        "model_CNN.add(Dense(units=1, activation = 'sigmoid', name = \"Dense2\"))\n",
        "\n",
        "model_CNN.compile(loss='binary_crossentropy',\n",
        "              optimizer = 'adam',\n",
        "              metrics = ['accuracy'])\n",
        "\n",
        "model_CNN.summary()"
      ],
      "execution_count": null,
      "outputs": [
        {
          "output_type": "stream",
          "text": [
            "Model: \"sequential_14\"\n",
            "_________________________________________________________________\n",
            "Layer (type)                 Output Shape              Param #   \n",
            "=================================================================\n",
            "embedding_14 (Embedding)     (None, 30, 100)           2000200   \n",
            "_________________________________________________________________\n",
            "conv1d_2 (Conv1D)            (None, 30, 64)            32064     \n",
            "_________________________________________________________________\n",
            "max_pooling1d_2 (MaxPooling1 (None, 6, 64)             0         \n",
            "_________________________________________________________________\n",
            "LSTM (LSTM)                  (None, 6, 64)             33024     \n",
            "_________________________________________________________________\n",
            "LSTM_2 (LSTM)                (None, 6, 64)             33024     \n",
            "_________________________________________________________________\n",
            "LSTM_3 (LSTM)                (None, 64)                33024     \n",
            "_________________________________________________________________\n",
            "Dense1 (Dense)               (None, 16)                1040      \n",
            "_________________________________________________________________\n",
            "Dense2 (Dense)               (None, 1)                 17        \n",
            "=================================================================\n",
            "Total params: 2,132,393\n",
            "Trainable params: 2,132,393\n",
            "Non-trainable params: 0\n",
            "_________________________________________________________________\n"
          ],
          "name": "stdout"
        }
      ]
    },
    {
      "cell_type": "markdown",
      "metadata": {
        "id": "yGrBxi9Od2G2"
      },
      "source": [
        "# Trening modelu i ewaluacja na danych walidacyjnych"
      ]
    },
    {
      "cell_type": "markdown",
      "metadata": {
        "id": "8Xr1c2JAjHj2"
      },
      "source": [
        "## Przetrenowanie przy większej liczbie epok"
      ]
    },
    {
      "cell_type": "markdown",
      "metadata": {
        "id": "0UKhYcoTkiSG"
      },
      "source": [
        "Przy wyborze architektury sieci i tuningu hiperparametrów metodą prób i błędów zauważyliśmy, że zwiększenie liczby epok nie skutkowało poprawą accuracy, a nawet czasami ją pogarszało. Na wykresie przedstawiliśmy zależność pomiędzy liczbą epok a accuracy i loss na zbiorze walidacyjnym w przypadku trenowania przykładowego modelu."
      ]
    },
    {
      "cell_type": "code",
      "metadata": {
        "id": "wh_zQP5Dd2G2",
        "colab": {
          "base_uri": "https://localhost:8080/"
        },
        "outputId": "0a8af744-36c7-4df3-d314-d778e7076406"
      },
      "source": [
        "batch_size = 32\n",
        "\n",
        "np.random.seed(42)\n",
        "\n",
        "model_test = Sequential()\n",
        "model_test.add(Embedding(input_dim = num_words+2, output_dim = embedding_length, input_length = max_doc_length))\n",
        "model_test.add(LSTM(units = 64, input_shape = (max_doc_length, embedding_length), return_sequences = True, unroll = True, name='LSTM'))\n",
        "model_test.add(Dropout(rate = 0.2))\n",
        "model_test.add(LSTM(units = 64, input_shape = (max_doc_length, embedding_length), return_sequences = True, unroll = True, name='LSTM_2'))\n",
        "model_test.add(Dropout(rate = 0.2))\n",
        "model_test.add(LSTM(units = 64, return_sequences = False, name ='LSTM_3'))\n",
        "model_test.add(Dropout(rate = 0.2))\n",
        "model_test.add(Dense(16, name = \"Dense1\"))\n",
        "model_test.add(Dense(units=1, activation = 'sigmoid', name = \"Dense2\"))\n",
        "\n",
        "model_test.compile(loss='binary_crossentropy',\n",
        "              optimizer = 'adam',\n",
        "              metrics = ['accuracy'])\n",
        "\n",
        "model_test.summary()\n",
        "\n",
        "history_test = model_test.fit(x_train, y_train,\n",
        "          batch_size = batch_size, \n",
        "          epochs = 5,\n",
        "          validation_data = (x_test, y_test))"
      ],
      "execution_count": null,
      "outputs": [
        {
          "output_type": "stream",
          "text": [
            "Model: \"sequential_15\"\n",
            "_________________________________________________________________\n",
            "Layer (type)                 Output Shape              Param #   \n",
            "=================================================================\n",
            "embedding_15 (Embedding)     (None, 30, 100)           2000200   \n",
            "_________________________________________________________________\n",
            "LSTM (LSTM)                  (None, 30, 64)            42240     \n",
            "_________________________________________________________________\n",
            "dropout_24 (Dropout)         (None, 30, 64)            0         \n",
            "_________________________________________________________________\n",
            "LSTM_2 (LSTM)                (None, 30, 64)            33024     \n",
            "_________________________________________________________________\n",
            "dropout_25 (Dropout)         (None, 30, 64)            0         \n",
            "_________________________________________________________________\n",
            "LSTM_3 (LSTM)                (None, 64)                33024     \n",
            "_________________________________________________________________\n",
            "dropout_26 (Dropout)         (None, 64)                0         \n",
            "_________________________________________________________________\n",
            "Dense1 (Dense)               (None, 16)                1040      \n",
            "_________________________________________________________________\n",
            "Dense2 (Dense)               (None, 1)                 17        \n",
            "=================================================================\n",
            "Total params: 2,109,545\n",
            "Trainable params: 2,109,545\n",
            "Non-trainable params: 0\n",
            "_________________________________________________________________\n",
            "Epoch 1/5\n",
            "9172/9172 [==============================] - 709s 76ms/step - loss: 0.2357 - accuracy: 0.9146 - val_loss: 0.1734 - val_accuracy: 0.9384\n",
            "Epoch 2/5\n",
            "9172/9172 [==============================] - 699s 76ms/step - loss: 0.1393 - accuracy: 0.9523 - val_loss: 0.1742 - val_accuracy: 0.9369\n",
            "Epoch 3/5\n",
            "9172/9172 [==============================] - 704s 77ms/step - loss: 0.0974 - accuracy: 0.9682 - val_loss: 0.1792 - val_accuracy: 0.9385\n",
            "Epoch 4/5\n",
            "9172/9172 [==============================] - 686s 75ms/step - loss: 0.0667 - accuracy: 0.9791 - val_loss: 0.2221 - val_accuracy: 0.9333\n",
            "Epoch 5/5\n",
            "9172/9172 [==============================] - 684s 75ms/step - loss: 0.0471 - accuracy: 0.9861 - val_loss: 0.2423 - val_accuracy: 0.9408\n"
          ],
          "name": "stdout"
        }
      ]
    },
    {
      "cell_type": "code",
      "metadata": {
        "id": "O3V9d4xyjBMe",
        "colab": {
          "base_uri": "https://localhost:8080/",
          "height": 353
        },
        "outputId": "df5c438c-0db7-4a28-d3a4-8808c6614d98"
      },
      "source": [
        "acc = history_test.history['accuracy']\n",
        "val_acc = history_test.history['val_accuracy']\n",
        "loss = history_test.history['loss']\n",
        "val_loss = history_test.history['val_loss']\n",
        "x = range(1, len(acc) + 1)\n",
        "\n",
        "plt.figure(figsize=(12, 5))\n",
        "plt.subplot(1, 2, 1)\n",
        "plt.plot(x, acc, 'b', label='Training accuracy')\n",
        "plt.plot(x, val_acc, 'r', label='Validation accuracy')\n",
        "plt.title('Training and validation accuracy')\n",
        "plt.legend()\n",
        "plt.subplot(1, 2, 2)\n",
        "plt.plot(x, loss, 'b', label='Training loss')\n",
        "plt.plot(x, val_loss, 'r', label='Validation loss')\n",
        "plt.title('Training and validation loss')\n",
        "plt.legend()"
      ],
      "execution_count": null,
      "outputs": [
        {
          "output_type": "execute_result",
          "data": {
            "text/plain": [
              "<matplotlib.legend.Legend at 0x7f807daa78d0>"
            ]
          },
          "metadata": {
            "tags": []
          },
          "execution_count": 108
        },
        {
          "output_type": "display_data",
          "data": {
            "image/png": "[encoded data removed]",
            "text/plain": [
              "<Figure size 864x360 with 2 Axes>"
            ]
          },
          "metadata": {
            "tags": [],
            "needs_background": "light"
          }
        }
      ]
    },
    {
      "cell_type": "markdown",
      "metadata": {
        "id": "1P5hjjQRlmy0"
      },
      "source": [
        "Wykresy pokazują przetrenowanie modelu wraz ze wzrostem liczby trenowanych epok. Sensownym punktem wydaje się liczba epok równa 3 – przy wyższych wartościach model już nie poprawia accuracy na zbiorze walidacyjnym, a strata na tym zbiorze przyjmuje coraz wyższe wartości.\n",
        "Trenujemy zatem modele z liczbą epok = 3."
      ]
    },
    {
      "cell_type": "code",
      "metadata": {
        "id": "P2APSmKuli4-",
        "colab": {
          "base_uri": "https://localhost:8080/"
        },
        "outputId": "13f85740-c10a-47cd-f4d0-5ec4a74f0017"
      },
      "source": [
        "print('Training...')\n",
        "batch_size = 32\n",
        "\n",
        "np.random.seed(42)\n",
        "\n",
        "model_bazowy.fit(x_train, y_train,\n",
        "          batch_size = batch_size, \n",
        "          epochs = 2,\n",
        "          validation_data = (x_test, y_test))"
      ],
      "execution_count": null,
      "outputs": [
        {
          "output_type": "stream",
          "text": [
            "Training...\n",
            "Epoch 1/3\n",
            "9172/9172 [==============================] - 707s 76ms/step - loss: 0.2302 - accuracy: 0.9163 - val_loss: 0.1706 - val_accuracy: 0.9384\n",
            "Epoch 2/3\n",
            "9172/9172 [==============================] - 691s 75ms/step - loss: 0.1338 - accuracy: 0.9540 - val_loss: 0.1672 - val_accuracy: 0.9425\n",
            "Epoch 3/3\n",
            "9172/9172 [==============================] - 681s 74ms/step - loss: 0.0928 - accuracy: 0.9691 - val_loss: 0.1745 - val_accuracy: 0.9434\n"
          ],
          "name": "stdout"
        },
        {
          "output_type": "execute_result",
          "data": {
            "text/plain": [
              "<tensorflow.python.keras.callbacks.History at 0x7f808bad0a20>"
            ]
          },
          "metadata": {
            "tags": []
          },
          "execution_count": 109
        }
      ]
    },
    {
      "cell_type": "code",
      "metadata": {
        "id": "kaafIYrncDW2",
        "colab": {
          "base_uri": "https://localhost:8080/"
        },
        "outputId": "633c4c9e-25c8-4e06-9933-bdb87e336ef9"
      },
      "source": [
        "print('Training...')\n",
        "batch_size = 32\n",
        "\n",
        "np.random.seed(42)\n",
        "\n",
        "model_CNN.fit(x_train, y_train,\n",
        "          batch_size = batch_size, \n",
        "          epochs = 2,\n",
        "          validation_data = (x_test, y_test))"
      ],
      "execution_count": null,
      "outputs": [
        {
          "output_type": "stream",
          "text": [
            "Training...\n",
            "Epoch 1/3\n",
            "9172/9172 [==============================] - 419s 45ms/step - loss: 0.2234 - accuracy: 0.9202 - val_loss: 0.1643 - val_accuracy: 0.9418\n",
            "Epoch 2/3\n",
            "9172/9172 [==============================] - 421s 46ms/step - loss: 0.1206 - accuracy: 0.9588 - val_loss: 0.1602 - val_accuracy: 0.9442\n",
            "Epoch 3/3\n",
            "9172/9172 [==============================] - 419s 46ms/step - loss: 0.0691 - accuracy: 0.9780 - val_loss: 0.1906 - val_accuracy: 0.9404\n"
          ],
          "name": "stdout"
        },
        {
          "output_type": "execute_result",
          "data": {
            "text/plain": [
              "<tensorflow.python.keras.callbacks.History at 0x7f8092812278>"
            ]
          },
          "metadata": {
            "tags": []
          },
          "execution_count": 110
        }
      ]
    },
    {
      "cell_type": "code",
      "metadata": {
        "id": "iD4ldeAGcCKu",
        "colab": {
          "base_uri": "https://localhost:8080/"
        },
        "outputId": "cfa10e97-4f0d-4248-e8bd-28748823d65b"
      },
      "source": [
        "print('Training...')\n",
        "batch_size = 32\n",
        "\n",
        "np.random.seed(42)\n",
        "\n",
        "model_drop.fit(x_train, y_train,\n",
        "          batch_size = batch_size, \n",
        "          epochs = 2,\n",
        "          validation_data = (x_test, y_test))"
      ],
      "execution_count": null,
      "outputs": [
        {
          "output_type": "stream",
          "text": [
            "Training...\n",
            "Epoch 1/3\n",
            "9172/9172 [==============================] - 728s 78ms/step - loss: 0.2359 - accuracy: 0.9135 - val_loss: 0.1762 - val_accuracy: 0.9364\n",
            "Epoch 2/3\n",
            "9172/9172 [==============================] - 718s 78ms/step - loss: 0.1384 - accuracy: 0.9529 - val_loss: 0.1714 - val_accuracy: 0.9429\n",
            "Epoch 3/3\n",
            "9172/9172 [==============================] - 729s 79ms/step - loss: 0.0994 - accuracy: 0.9677 - val_loss: 0.1788 - val_accuracy: 0.9394\n"
          ],
          "name": "stdout"
        },
        {
          "output_type": "execute_result",
          "data": {
            "text/plain": [
              "<tensorflow.python.keras.callbacks.History at 0x7f809268b668>"
            ]
          },
          "metadata": {
            "tags": []
          },
          "execution_count": 111
        }
      ]
    },
    {
      "cell_type": "markdown",
      "metadata": {
        "id": "vTD0j8DMd2G5"
      },
      "source": [
        "# Ewaluacja na danych testowych"
      ]
    },
    {
      "cell_type": "markdown",
      "metadata": {
        "id": "0pqQ1V-brwf2"
      },
      "source": [
        "Do ewaluacji jakości otrzymanych modeli wykorzystaliśmy miary accuracy oraz krzywe ROC."
      ]
    },
    {
      "cell_type": "code",
      "metadata": {
        "id": "S0RbVIyvi3-2"
      },
      "source": [
        "y_predict_bazowy = model_bazowy.predict(x_dev)\n",
        "fpr_bazowy, tpr_bazowy, thresholds_bazowy = roc_curve(y_dev, y_predict_bazowy)\n",
        "\n",
        "y_predict_CNN = model_CNN.predict(x_dev)\n",
        "fpr_CNN, tpr_CNN, thresholds_CNN = roc_curve(y_dev, y_predict_CNN)\n",
        "\n",
        "y_predict_drop = model_drop.predict(x_dev)\n",
        "fpr_drop, tpr_drop, thresholds_drop = roc_curve(y_dev, y_predict_drop)"
      ],
      "execution_count": null,
      "outputs": []
    },
    {
      "cell_type": "code",
      "metadata": {
        "id": "eA4e7p4Ed2G5",
        "colab": {
          "base_uri": "https://localhost:8080/",
          "height": 246
        },
        "outputId": "73a88e11-99a4-498b-d9ed-4bbc8ce060cb"
      },
      "source": [
        "plt.figure(1)\n",
        "plt.plot([0, 1], [0, 1], 'k--')\n",
        "\n",
        "#Obliczanie AUC\n",
        "auc_bazowy = metrics.auc(fpr_bazowy, tpr_bazowy)\n",
        "auc_cnn = metrics.auc(fpr_CNN, tpr_CNN)\n",
        "auc_drop = metrics.auc(fpr_drop, tpr_drop)\n",
        "\n",
        "plt.plot(fpr_bazowy, tpr_bazowy, label='Bazowy (area = {:.3f})'.format(auc_bazowy))\n",
        "plt.plot(fpr_CNN, tpr_CNN, label='CNN (area = {:.3f})'.format(auc_cnn))\n",
        "plt.plot(fpr_drop, tpr_drop, label='Dropout (area = {:.3f})'.format(auc_drop))\n",
        "\n",
        "plt.xlabel('False positive')\n",
        "plt.ylabel('True positive')\n",
        "plt.title('Krzywa ROC')\n",
        "plt.legend(loc='best')\n",
        "plt.show()\n",
        "\n",
        "#Zbliżenie\n",
        "\n",
        "plt.figure(2)\n",
        "plt.xlim(0, 0.2)\n",
        "plt.ylim(0.8, 1)\n",
        "plt.plot([0, 1], [0, 1], 'k--')\n",
        "\n",
        "plt.plot(fpr_bazowy, tpr_bazowy, label='Bazowy (area = {:.3f})'.format(auc_bazowy))\n",
        "plt.plot(fpr_CNN, tpr_CNN, label='CNN (area = {:.3f})'.format(auc_cnn))\n",
        "plt.plot(fpr_drop, tpr_drop, label='Dropout (area = {:.3f})'.format(auc_drop))\n",
        "\n",
        "plt.xlabel('False positive')\n",
        "plt.ylabel('True positive')\n",
        "plt.title('Krzywa ROC (zbliżenie na lewy górny róg)')\n",
        "plt.legend(loc='best')\n",
        "plt.show()"
      ],
      "execution_count": null,
      "outputs": [
        {
          "output_type": "error",
          "ename": "NameError",
          "evalue": "ignored",
          "traceback": [
            "\u001b[0;31m---------------------------------------------------------------------------\u001b[0m",
            "\u001b[0;31mNameError\u001b[0m                                 Traceback (most recent call last)",
            "\u001b[0;32m<ipython-input-2-c7184c71ea73>\u001b[0m in \u001b[0;36m<module>\u001b[0;34m()\u001b[0m\n\u001b[0;32m----> 1\u001b[0;31m \u001b[0mplt\u001b[0m\u001b[0;34m.\u001b[0m\u001b[0mfigure\u001b[0m\u001b[0;34m(\u001b[0m\u001b[0;36m1\u001b[0m\u001b[0;34m)\u001b[0m\u001b[0;34m\u001b[0m\u001b[0;34m\u001b[0m\u001b[0m\n\u001b[0m\u001b[1;32m      2\u001b[0m \u001b[0mplt\u001b[0m\u001b[0;34m.\u001b[0m\u001b[0mfigure\u001b[0m\u001b[0;34m(\u001b[0m\u001b[0;36m1\u001b[0m\u001b[0;34m)\u001b[0m\u001b[0;34m\u001b[0m\u001b[0;34m\u001b[0m\u001b[0m\n\u001b[1;32m      3\u001b[0m \u001b[0mplt\u001b[0m\u001b[0;34m.\u001b[0m\u001b[0mplot\u001b[0m\u001b[0;34m(\u001b[0m\u001b[0;34m[\u001b[0m\u001b[0;36m0\u001b[0m\u001b[0;34m,\u001b[0m \u001b[0;36m1\u001b[0m\u001b[0;34m]\u001b[0m\u001b[0;34m,\u001b[0m \u001b[0;34m[\u001b[0m\u001b[0;36m0\u001b[0m\u001b[0;34m,\u001b[0m \u001b[0;36m1\u001b[0m\u001b[0;34m]\u001b[0m\u001b[0;34m,\u001b[0m \u001b[0;34m'k--'\u001b[0m\u001b[0;34m)\u001b[0m\u001b[0;34m\u001b[0m\u001b[0;34m\u001b[0m\u001b[0m\n\u001b[1;32m      4\u001b[0m \u001b[0mplt\u001b[0m\u001b[0;34m.\u001b[0m\u001b[0mplot\u001b[0m\u001b[0;34m(\u001b[0m\u001b[0mfpr_bazowy\u001b[0m\u001b[0;34m,\u001b[0m \u001b[0mtpr_bazowy\u001b[0m\u001b[0;34m)\u001b[0m\u001b[0;34m\u001b[0m\u001b[0;34m\u001b[0m\u001b[0m\n\u001b[1;32m      5\u001b[0m \u001b[0mplt\u001b[0m\u001b[0;34m.\u001b[0m\u001b[0mplot\u001b[0m\u001b[0;34m(\u001b[0m\u001b[0mfpr_CNN\u001b[0m\u001b[0;34m,\u001b[0m \u001b[0mtpr_CNN\u001b[0m\u001b[0;34m)\u001b[0m\u001b[0;34m\u001b[0m\u001b[0;34m\u001b[0m\u001b[0m\n",
            "\u001b[0;31mNameError\u001b[0m: name 'plt' is not defined"
          ]
        }
      ]
    },
    {
      "cell_type": "code",
      "metadata": {
        "id": "Dj0hzrWpd2G6",
        "colab": {
          "base_uri": "https://localhost:8080/"
        },
        "outputId": "d7e7af28-3c09-4088-8376-bb728c18d195"
      },
      "source": [
        "score, acc = model_bazowy.evaluate(x_dev, y_dev, batch_size=batch_size)\n",
        "print(f'Score na zbiorze testowym dla modelu 1 (bazowy) = {score}')\n",
        "print(f'Accuracy na zbiorze testowym dla modelu 1 (bazowy) = {acc}')\n",
        "\n",
        "score, acc = model_drop.evaluate(x_dev, y_dev, batch_size=batch_size)\n",
        "print(f'Score na zbiorze testowym dla modelu 2 (bazowy+dropout) = {score}')\n",
        "print(f'Accuracy na zbiorze testowym dla modelu 2 (bazowy+dropout) = {acc}')\n",
        "\n",
        "score, acc = model_CNN.evaluate(x_dev, y_dev, batch_size=batch_size)\n",
        "print(f'Score na zbiorze testowym dla modelu 3 (bazowy+CNN) = {score}')\n",
        "print(f'Accuracy na zbiorze testowym dla modelu 3 (bazowy+CNN) = {acc}')"
      ],
      "execution_count": null,
      "outputs": [
        {
          "output_type": "stream",
          "text": [
            "3058/3058 [==============================] - 44s 14ms/step - loss: 0.1759 - accuracy: 0.9434\n",
            "Score na zbiorze testowym dla modelu 1 (bazowy) = 0.17586380243301392\n",
            "Accuracy na zbiorze testowym dla modelu 1 (bazowy) = 0.9433892965316772\n",
            "3058/3058 [==============================] - 47s 15ms/step - loss: 0.1799 - accuracy: 0.9381\n",
            "Score na zbiorze testowym dla modelu 2 (bazowy+dropout) = 0.17988018691539764\n",
            "Accuracy na zbiorze testowym dla modelu 2 (bazowy+dropout) = 0.9380532503128052\n",
            "3058/3058 [==============================] - 19s 6ms/step - loss: 0.1916 - accuracy: 0.9402\n",
            "Score na zbiorze testowym dla modelu 3 (bazowy+CNN) = 0.19159507751464844\n",
            "Accuracy na zbiorze testowym dla modelu 3 (bazowy+CNN) = 0.9402101635932922\n"
          ],
          "name": "stdout"
        }
      ]
    },
    {
      "cell_type": "markdown",
      "metadata": {
        "id": "hZEZHYeT6z-G"
      },
      "source": [
        "### Wybór najlepszego modelu"
      ]
    },
    {
      "cell_type": "markdown",
      "metadata": {
        "id": "etSDztGV64Rm"
      },
      "source": [
        ""
      ]
    },
    {
      "cell_type": "markdown",
      "metadata": {
        "id": "IyGSYxQkd2G6"
      },
      "source": [
        "# Predykcja dla nowej recenzji"
      ]
    },
    {
      "cell_type": "code",
      "metadata": {
        "id": "zbV1aTAZd2G6",
        "colab": {
          "base_uri": "https://localhost:8080/"
        },
        "outputId": "fc1cacf7-f9c7-45fe-d02f-e1bc0d3ee0e5"
      },
      "source": [
        "review = \"beznadziejna sukienka\"\n",
        "print(f'New review = {review}')\n",
        "\n",
        "words = review.split()\n",
        "review = []\n",
        "\n",
        "for word in words:\n",
        "    word = word.lower()\n",
        "    if word not in tk.word_index:\n",
        "        review.append(num_words+1)\n",
        "    else:\n",
        "        review.append(tk.word_index[word])\n",
        "\n",
        "print(f\"review = {review}\")\n",
        "\n",
        "review = pad_sequences([review], truncating = 'post', padding = 'post', maxlen = max_doc_length)\n",
        "\n",
        "prediction = model_drop.predict(review)\n",
        "print(f'Prediction (0 = Negative, 1 = Positive) = {prediction}')"
      ],
      "execution_count": null,
      "outputs": [
        {
          "output_type": "stream",
          "text": [
            "New review = beznadziejna sukienka\n",
            "review = [5475, 1685]\n",
            "Prediction (0 = Negative, 1 = Positive) = [[0.02142051]]\n"
          ],
          "name": "stdout"
        }
      ]
    },
    {
      "cell_type": "markdown",
      "metadata": {
        "id": "9Do0ApiG-cXP"
      },
      "source": [
        "# Dalsze kroki\n",
        "Zbudowaliśmy kilka modeli klasyfikacji binarnej, jednak ceneo.pl jest ogromną kopalnią względnie łatwych do pozyskania danych. W naszym zbiorze danych posiadaliśmy jeszcze punktową ocenę produktu od 1 do 5 punktów, oraz bardzo szczegółową kategorię produktu. Dodatkowo wszystkie produkty posiadają przypisaną najniższą cenę, za jaką produkt można kupić w jednym z indeksowanych przez ceneo sklepach internetowych.\n",
        "Te wszystkie informacje składają się na wiele innych typów analiz, którą można na zbiorze danych z ceneo przeprowadzać\n"
      ]
    }
  ]
}